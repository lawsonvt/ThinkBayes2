{
 "cells": [
  {
   "cell_type": "markdown",
   "metadata": {},
   "source": [
    "# Addends, Maxima, and Mixtures\n",
    "\n",
    "The remaining fun things in Chapter 5"
   ]
  },
  {
   "cell_type": "code",
   "execution_count": 9,
   "metadata": {},
   "outputs": [],
   "source": [
    "from __future__ import print_function, division\n",
    "\n",
    "%matplotlib inline\n",
    "import warnings\n",
    "warnings.filterwarnings('ignore')\n",
    "\n",
    "import numpy as np\n",
    "\n",
    "import sys\n",
    "import os\n",
    "\n",
    "tb_dir = \"/home/pi/Programming/ThinkBayes2/\"\n",
    "\n",
    "sys.path.append(os.path.abspath(tb_dir + \"thinkbayes2/\"))\n",
    "sys.path.append(os.path.abspath(tb_dir + \"scripts/\"))\n",
    "sys.path.append(os.path.abspath(tb_dir + \"thinkplot/\"))\n",
    "\n",
    "#from thinkbayes2 import Pmf, Cdf, Suite, Beta\n",
    "import thinkbayes2\n",
    "import thinkplot"
   ]
  },
  {
   "cell_type": "markdown",
   "metadata": {},
   "source": [
    "Dungeons and Dragons example. First we define a single six sided die."
   ]
  },
  {
   "cell_type": "code",
   "execution_count": 17,
   "metadata": {},
   "outputs": [],
   "source": [
    "class Die(Pmf):\n",
    "    def __init__(self,sides):\n",
    "        Pmf.__init__(self)\n",
    "        for x in range(1, sides+1):\n",
    "            self.Set(x, 1)\n",
    "        self.Normalize()"
   ]
  },
  {
   "cell_type": "code",
   "execution_count": 18,
   "metadata": {},
   "outputs": [],
   "source": [
    "d6 = Die(6)"
   ]
  },
  {
   "cell_type": "code",
   "execution_count": 19,
   "metadata": {},
   "outputs": [
    {
     "data": {
      "text/plain": [
       "<bound method _DictWrapper.Items of Die({1: 0.16666666666666666, 2: 0.16666666666666666, 3: 0.16666666666666666, 4: 0.16666666666666666, 5: 0.16666666666666666, 6: 0.16666666666666666})>"
      ]
     },
     "execution_count": 19,
     "metadata": {},
     "output_type": "execute_result"
    }
   ],
   "source": [
    "d6.Items"
   ]
  },
  {
   "cell_type": "code",
   "execution_count": 22,
   "metadata": {},
   "outputs": [
    {
     "name": "stdout",
     "output_type": "stream",
     "text": [
      "3 0.002\n",
      "4 0.01\n",
      "5 0.027\n",
      "6 0.049\n",
      "7 0.063\n",
      "8 0.094\n",
      "9 0.108\n",
      "10 0.13\n",
      "11 0.133\n",
      "12 0.111\n",
      "13 0.107\n",
      "14 0.05\n",
      "15 0.053\n",
      "16 0.032\n",
      "17 0.022\n",
      "18 0.009000000000000001\n"
     ]
    }
   ],
   "source": [
    "dice = [d6] * 3\n",
    "three = thinkbayes2.SampleSum(dice, 1000)\n",
    "three.Print()"
   ]
  },
  {
   "cell_type": "code",
   "execution_count": 25,
   "metadata": {},
   "outputs": [
    {
     "name": "stdout",
     "output_type": "stream",
     "text": [
      "3 0.004629629629629629\n",
      "4 0.013888888888888888\n",
      "5 0.027777777777777776\n",
      "6 0.046296296296296294\n",
      "7 0.06944444444444445\n",
      "8 0.09722222222222222\n",
      "9 0.11574074074074073\n",
      "10 0.125\n",
      "11 0.125\n",
      "12 0.11574074074074074\n",
      "13 0.09722222222222224\n",
      "14 0.06944444444444445\n",
      "15 0.046296296296296294\n",
      "16 0.027777777777777776\n",
      "17 0.013888888888888888\n",
      "18 0.004629629629629629\n"
     ]
    }
   ],
   "source": [
    "three_exact = d6 + d6 + d6\n",
    "three_exact.Print()"
   ]
  },
  {
   "cell_type": "markdown",
   "metadata": {},
   "source": [
    "Plot the two solutions"
   ]
  },
  {
   "cell_type": "code",
   "execution_count": 40,
   "metadata": {},
   "outputs": [
    {
     "data": {
      "image/png": "[encoded data removed]",
      "text/plain": [
       "<matplotlib.figure.Figure at 0x6a5b09b0>"
      ]
     },
     "metadata": {
      "needs_background": "light"
     },
     "output_type": "display_data"
    }
   ],
   "source": [
    "thinkplot.PrePlot(num=2)\n",
    "thinkplot.Pmf(three)\n",
    "thinkplot.Pmf(three_exact, linestyle=\"dashed\")\n",
    "thinkplot.decorate(title=\"Dice Roll Distribution\",\n",
    "                  xlabel=\"Sum of three d6\",\n",
    "                  ylabel=\"Probability\")"
   ]
  },
  {
   "cell_type": "markdown",
   "metadata": {},
   "source": [
    "# Maxima"
   ]
  },
  {
   "cell_type": "code",
   "execution_count": 41,
   "metadata": {},
   "outputs": [],
   "source": [
    "def RandomMax(dists):\n",
    "    total = max(dist.Random() for dist in dists)\n",
    "    return total\n",
    "    \n",
    "def SampleMax(dists, n):\n",
    "    total = MakePmfFromList(RandomMax(dists) for i in range(n))\n",
    "    return Pmf"
   ]
  },
  {
   "cell_type": "code",
   "execution_count": 42,
   "metadata": {},
   "outputs": [],
   "source": [
    "def PmfMax(pmf1, pmf2):\n",
    "    res = Pmf()\n",
    "    for v1, p1 in pmf1.Items():\n",
    "        for v2, p2 in pmf2.Items():\n",
    "            res.Incr(max(v1,v2), p1*p2)\n",
    "    return res"
   ]
  },
  {
   "cell_type": "code",
   "execution_count": 43,
   "metadata": {},
   "outputs": [
    {
     "data": {
      "text/plain": [
       "Pmf({3: 4e-06, 4: 0.00014000000000000001, 5: 0.001377, 6: 0.006223, 7: 0.015057000000000001, 8: 0.037224, 9: 0.06458399999999999, 10: 0.10868, 11: 0.146167, 12: 0.149073, 13: 0.16702699999999998, 14: 0.0859, 15: 0.09651300000000002, 16: 0.060992, 17: 0.04311999999999999, 18: 0.017919000000000004})"
      ]
     },
     "execution_count": 43,
     "metadata": {},
     "output_type": "execute_result"
    }
   ],
   "source": [
    "PmfMax(three, three)"
   ]
  },
  {
   "cell_type": "code",
   "execution_count": 47,
   "metadata": {},
   "outputs": [],
   "source": [
    "best_attr_cdf = three_exact.Max(6)\n",
    "best_attr_pmf = best_attr_cdf.MakePmf()"
   ]
  },
  {
   "cell_type": "code",
   "execution_count": 48,
   "metadata": {},
   "outputs": [
    {
     "data": {
      "image/png": "[encoded data removed]",
      "text/plain": [
       "<matplotlib.figure.Figure at 0x6a577170>"
      ]
     },
     "metadata": {
      "needs_background": "light"
     },
     "output_type": "display_data"
    }
   ],
   "source": [
    "thinkplot.Pmf(best_attr_pmf)\n",
    "thinkplot.decorate(title=\"Dice Roll Distribution\",\n",
    "                  xlabel=\"Sum of three d6\",\n",
    "                  ylabel=\"Probability\")"
   ]
  },
  {
   "cell_type": "code",
   "execution_count": null,
   "metadata": {},
   "outputs": [],
   "source": []
  }
 ],
 "metadata": {
  "kernelspec": {
   "display_name": "Python 3",
   "language": "python",
   "name": "python3"
  },
  "language_info": {
   "codemirror_mode": {
    "name": "ipython",
    "version": 3
   },
   "file_extension": ".py",
   "mimetype": "text/x-python",
   "name": "python",
   "nbconvert_exporter": "python",
   "pygments_lexer": "ipython3",
   "version": "3.5.3"
  }
 },
 "nbformat": 4,
 "nbformat_minor": 2
}
