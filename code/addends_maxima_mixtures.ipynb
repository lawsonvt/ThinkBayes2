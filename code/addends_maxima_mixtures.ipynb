{
 "cells": [
  {
   "cell_type": "markdown",
   "metadata": {},
   "source": [
    "# Addends, Maxima, and Mixtures\n",
    "\n",
    "The remaining fun things in Chapter 5"
   ]
  },
  {
   "cell_type": "code",
   "execution_count": 1,
   "metadata": {},
   "outputs": [],
   "source": [
    "from __future__ import print_function, division\n",
    "\n",
    "%matplotlib inline\n",
    "import warnings\n",
    "warnings.filterwarnings('ignore')\n",
    "\n",
    "import numpy as np\n",
    "\n",
    "import sys\n",
    "import os\n",
    "\n",
    "tb_dir = \"/home/pi/Programming/ThinkBayes2/\"\n",
    "\n",
    "sys.path.append(os.path.abspath(tb_dir + \"thinkbayes2/\"))\n",
    "sys.path.append(os.path.abspath(tb_dir + \"scripts/\"))\n",
    "sys.path.append(os.path.abspath(tb_dir + \"thinkplot/\"))\n",
    "\n",
    "#from thinkbayes2 import Pmf, Cdf, Suite, Beta\n",
    "import thinkbayes2\n",
    "import thinkplot"
   ]
  },
  {
   "cell_type": "markdown",
   "metadata": {},
   "source": [
    "# Addends\n",
    "Dungeons and Dragons example. How do we model the sum of the distributions of a six sided die?"
   ]
  },
  {
   "cell_type": "code",
   "execution_count": 2,
   "metadata": {},
   "outputs": [],
   "source": [
    "class Die(thinkbayes2.Pmf):\n",
    "    def __init__(self,sides):\n",
    "        thinkbayes2.Pmf.__init__(self)\n",
    "        for x in range(1, sides+1):\n",
    "            self.Set(x, 1)\n",
    "        self.Normalize()"
   ]
  },
  {
   "cell_type": "markdown",
   "metadata": {},
   "source": [
    "Create single six sided die"
   ]
  },
  {
   "cell_type": "code",
   "execution_count": 3,
   "metadata": {},
   "outputs": [
    {
     "name": "stdout",
     "output_type": "stream",
     "text": [
      "1 0.16666666666666666\n",
      "2 0.16666666666666666\n",
      "3 0.16666666666666666\n",
      "4 0.16666666666666666\n",
      "5 0.16666666666666666\n",
      "6 0.16666666666666666\n"
     ]
    }
   ],
   "source": [
    "d6 = Die(6)\n",
    "d6.Print()"
   ]
  },
  {
   "cell_type": "markdown",
   "metadata": {},
   "source": [
    "Create a list of three dice and generate 1000 sample rolls with all three."
   ]
  },
  {
   "cell_type": "code",
   "execution_count": 4,
   "metadata": {},
   "outputs": [
    {
     "name": "stdout",
     "output_type": "stream",
     "text": [
      "3 0.002\n",
      "4 0.014\n",
      "5 0.025\n",
      "6 0.057\n",
      "7 0.073\n",
      "8 0.081\n",
      "9 0.117\n",
      "10 0.14100000000000001\n",
      "11 0.114\n",
      "12 0.11\n",
      "13 0.092\n",
      "14 0.07100000000000001\n",
      "15 0.052000000000000005\n",
      "16 0.034\n",
      "17 0.009000000000000001\n",
      "18 0.008\n"
     ]
    }
   ],
   "source": [
    "dice = [d6] * 3\n",
    "three = thinkbayes2.SampleSum(dice, 1000)\n",
    "three.Print()"
   ]
  },
  {
   "cell_type": "markdown",
   "metadata": {},
   "source": [
    "Alternative way is to simply add up the dice. This is possible due to operator override of the \"+\" operator in the class definition of Pmf."
   ]
  },
  {
   "cell_type": "code",
   "execution_count": 5,
   "metadata": {},
   "outputs": [
    {
     "name": "stdout",
     "output_type": "stream",
     "text": [
      "3 0.004629629629629629\n",
      "4 0.013888888888888888\n",
      "5 0.027777777777777776\n",
      "6 0.046296296296296294\n",
      "7 0.06944444444444445\n",
      "8 0.09722222222222222\n",
      "9 0.11574074074074073\n",
      "10 0.125\n",
      "11 0.125\n",
      "12 0.11574074074074074\n",
      "13 0.09722222222222224\n",
      "14 0.06944444444444445\n",
      "15 0.046296296296296294\n",
      "16 0.027777777777777776\n",
      "17 0.013888888888888888\n",
      "18 0.004629629629629629\n"
     ]
    }
   ],
   "source": [
    "three_exact = d6 + d6 + d6\n",
    "three_exact.Print()"
   ]
  },
  {
   "cell_type": "markdown",
   "metadata": {},
   "source": [
    "Plot the two solutions"
   ]
  },
  {
   "cell_type": "code",
   "execution_count": 6,
   "metadata": {},
   "outputs": [
    {
     "data": {
      "image/png": "[encoded data removed]",
      "text/plain": [
       "<matplotlib.figure.Figure at 0x6ad11c70>"
      ]
     },
     "metadata": {
      "needs_background": "light"
     },
     "output_type": "display_data"
    }
   ],
   "source": [
    "three.label = \"sample\"\n",
    "three_exact.label = \"exact\"\n",
    "\n",
    "thinkplot.PrePlot(num=2)\n",
    "thinkplot.Pmf(three)\n",
    "thinkplot.Pmf(three_exact, linestyle=\"dashed\")\n",
    "thinkplot.decorate(title=\"Dice Roll Distribution\",\n",
    "                  xlabel=\"Sum of three d6\",\n",
    "                  ylabel=\"Probability\")"
   ]
  },
  {
   "cell_type": "markdown",
   "metadata": {},
   "source": [
    "# Maxima\n",
    "What is the maximum of the distribution of the 3 dice in D&D? As before, we can simulate random samples or enumerate all possible pairs of values. But it is much simpler to convert to a CDF and finding the maximum that way."
   ]
  },
  {
   "cell_type": "code",
   "execution_count": 7,
   "metadata": {},
   "outputs": [],
   "source": [
    "best_attr_cdf = three_exact.Max(6)\n",
    "best_attr_pmf = best_attr_cdf.MakePmf()"
   ]
  },
  {
   "cell_type": "code",
   "execution_count": 8,
   "metadata": {},
   "outputs": [
    {
     "data": {
      "image/png": "[encoded data removed]",
      "text/plain": [
       "<matplotlib.figure.Figure at 0x6ad11bf0>"
      ]
     },
     "metadata": {
      "needs_background": "light"
     },
     "output_type": "display_data"
    }
   ],
   "source": [
    "thinkplot.Pmf(best_attr_pmf)\n",
    "thinkplot.decorate(title=\"Dice Roll Distribution\",\n",
    "                  xlabel=\"Sum of three d6\",\n",
    "                  ylabel=\"Probability\")"
   ]
  },
  {
   "cell_type": "markdown",
   "metadata": {},
   "source": [
    "# Mixtures\n",
    "Say we have a whole bag of dice of different side counts and we want to model the distribution of a single random dice pulled from this bag. We need to create a mixture of the uniform distributions.\n",
    "\n",
    "Let's start with a simple solution, two dice:"
   ]
  },
  {
   "cell_type": "code",
   "execution_count": 9,
   "metadata": {},
   "outputs": [],
   "source": [
    "d6 = Die(6)\n",
    "d8 = Die(8)"
   ]
  },
  {
   "cell_type": "markdown",
   "metadata": {},
   "source": [
    "We can create a Pmf of the mixtures by adding up the contributions of each distribution"
   ]
  },
  {
   "cell_type": "code",
   "execution_count": 10,
   "metadata": {},
   "outputs": [
    {
     "name": "stdout",
     "output_type": "stream",
     "text": [
      "1 0.14583333333333334\n",
      "2 0.14583333333333334\n",
      "3 0.14583333333333334\n",
      "4 0.14583333333333334\n",
      "5 0.14583333333333334\n",
      "6 0.14583333333333334\n",
      "7 0.06250000000000001\n",
      "8 0.06250000000000001\n"
     ]
    }
   ],
   "source": [
    "mix = thinkbayes2.Pmf()\n",
    "for die in [d6, d8]:\n",
    "    for outcome, prob in die.Items():\n",
    "        mix.Incr(outcome, prob)\n",
    "mix.Normalize()\n",
    "mix.Print()"
   ]
  },
  {
   "cell_type": "markdown",
   "metadata": {},
   "source": [
    "Now we get real fancy, a big ol bag of dice with different amounts of dice for each side count."
   ]
  },
  {
   "cell_type": "code",
   "execution_count": 11,
   "metadata": {},
   "outputs": [
    {
     "data": {
      "text/plain": [
       "15"
      ]
     },
     "execution_count": 11,
     "metadata": {},
     "output_type": "execute_result"
    }
   ],
   "source": [
    "pmf_dice = thinkbayes2.Pmf()\n",
    "pmf_dice.Set(Die(4), 5)\n",
    "pmf_dice.Set(Die(6), 4)\n",
    "pmf_dice.Set(Die(8), 3)\n",
    "pmf_dice.Set(Die(12), 2)\n",
    "pmf_dice.Set(Die(20), 1)\n",
    "pmf_dice.Normalize()"
   ]
  },
  {
   "cell_type": "markdown",
   "metadata": {},
   "source": [
    "Now mix it up"
   ]
  },
  {
   "cell_type": "code",
   "execution_count": 12,
   "metadata": {},
   "outputs": [],
   "source": [
    "mix = thinkbayes2.Pmf()\n",
    "for die, weight in pmf_dice.Items():\n",
    "    for outcome, prob in die.Items():\n",
    "        mix.Incr(outcome, weight*prob)"
   ]
  },
  {
   "cell_type": "code",
   "execution_count": 13,
   "metadata": {},
   "outputs": [
    {
     "data": {
      "image/png": "[encoded data removed]",
      "text/plain": [
       "<matplotlib.figure.Figure at 0x6ac1f090>"
      ]
     },
     "metadata": {
      "needs_background": "light"
     },
     "output_type": "display_data"
    }
   ],
   "source": [
    "thinkplot.Hist(mix)\n",
    "thinkplot.decorate(title=\"Big Ol Bag of Dice\",\n",
    "              xlabel=\"Outcome\",\n",
    "              ylabel=\"Probability\")"
   ]
  },
  {
   "cell_type": "code",
   "execution_count": null,
   "metadata": {},
   "outputs": [],
   "source": []
  }
 ],
 "metadata": {
  "kernelspec": {
   "display_name": "Python 3",
   "language": "python",
   "name": "python3"
  },
  "language_info": {
   "codemirror_mode": {
    "name": "ipython",
    "version": 3
   },
   "file_extension": ".py",
   "mimetype": "text/x-python",
   "name": "python",
   "nbconvert_exporter": "python",
   "pygments_lexer": "ipython3",
   "version": "3.5.3"
  }
 },
 "nbformat": 4,
 "nbformat_minor": 2
}
